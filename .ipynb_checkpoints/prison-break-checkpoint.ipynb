{
 "cells": [
  {
   "cell_type": "markdown",
   "id": "97d46139",
   "metadata": {},
   "source": [
    "In this project we will analize a small dataset of prison escapes where a helicopter was used in an attempt to free prisioner.\n",
    "I am following the model in this site: https://medium.com/@iamandre/prison-break-analysing-helicopter-prison-escape-data-87c111d33bf6"
   ]
  },
  {
   "cell_type": "code",
   "execution_count": 1,
   "id": "ef22c637",
   "metadata": {},
   "outputs": [],
   "source": [
    "import pandas as pd\n",
    "import requests\n",
    "from bs4 import BeautifulSoup"
   ]
  },
  {
   "cell_type": "code",
   "execution_count": 2,
   "id": "39a7da9e",
   "metadata": {},
   "outputs": [],
   "source": [
    "def data_from_url(url, tag_name, class_name):\n",
    "    response = requests.get(url)\n",
    "    if response.status_code != 200:        \n",
    "        print('HTTP 404: Page not found')    \n",
    "    else:        \n",
    "        soup = BeautifulSoup(response.text,'html.parser')        \n",
    "        html_output = soup.find(tag_name,{'class':class_name})        \n",
    "        output = pd.read_html(str(html_output))    \n",
    "    return output[0]"
   ]
  },
  {
   "cell_type": "code",
   "execution_count": 3,
   "id": "f1c2ec97",
   "metadata": {},
   "outputs": [
    {
     "data": {
      "text/html": [
       "<div>\n",
       "<style scoped>\n",
       "    .dataframe tbody tr th:only-of-type {\n",
       "        vertical-align: middle;\n",
       "    }\n",
       "\n",
       "    .dataframe tbody tr th {\n",
       "        vertical-align: top;\n",
       "    }\n",
       "\n",
       "    .dataframe thead th {\n",
       "        text-align: right;\n",
       "    }\n",
       "</style>\n",
       "<table border=\"1\" class=\"dataframe\">\n",
       "  <thead>\n",
       "    <tr style=\"text-align: right;\">\n",
       "      <th></th>\n",
       "      <th>Date</th>\n",
       "      <th>Prison name</th>\n",
       "      <th>Country</th>\n",
       "      <th>Succeeded</th>\n",
       "      <th>Escapee(s)</th>\n",
       "      <th>Details</th>\n",
       "    </tr>\n",
       "  </thead>\n",
       "  <tbody>\n",
       "    <tr>\n",
       "      <th>0</th>\n",
       "      <td>August 19, 1971</td>\n",
       "      <td>Santa Martha Acatitla</td>\n",
       "      <td>Mexico</td>\n",
       "      <td>Yes</td>\n",
       "      <td>Joel David Kaplan Carlos Antonio Contreras Castro</td>\n",
       "      <td>Joel David Kaplan was a New York businessman w...</td>\n",
       "    </tr>\n",
       "    <tr>\n",
       "      <th>1</th>\n",
       "      <td>October 31, 1973</td>\n",
       "      <td>Mountjoy Jail</td>\n",
       "      <td>Ireland</td>\n",
       "      <td>Yes</td>\n",
       "      <td>JB O'Hagan Seamus TwomeyKevin Mallon</td>\n",
       "      <td>On October 31, 1973 an IRA member hijacked a h...</td>\n",
       "    </tr>\n",
       "    <tr>\n",
       "      <th>2</th>\n",
       "      <td>May 24, 1978</td>\n",
       "      <td>United States Penitentiary, Marion</td>\n",
       "      <td>United States</td>\n",
       "      <td>No</td>\n",
       "      <td>Garrett Brock TrapnellMartin Joseph McNallyJam...</td>\n",
       "      <td>43-year-old Barbara Ann Oswald hijacked a Sain...</td>\n",
       "    </tr>\n",
       "    <tr>\n",
       "      <th>3</th>\n",
       "      <td>February 27, 1981</td>\n",
       "      <td>Fleury-Mérogis, Essonne, Ile de France</td>\n",
       "      <td>France</td>\n",
       "      <td>Yes</td>\n",
       "      <td>Gérard DupréDaniel Beaumont</td>\n",
       "      <td>With the help of Serge Coutel, Gérard Dupré an...</td>\n",
       "    </tr>\n",
       "    <tr>\n",
       "      <th>4</th>\n",
       "      <td>May 7, 1981</td>\n",
       "      <td>Orsainville Prison, Quebec City</td>\n",
       "      <td>Canada</td>\n",
       "      <td>No</td>\n",
       "      <td>Marina Paquet (hijacker)Giles Arseneault (pris...</td>\n",
       "      <td>Marina Paquet held a sawed off shotgun against...</td>\n",
       "    </tr>\n",
       "  </tbody>\n",
       "</table>\n",
       "</div>"
      ],
      "text/plain": [
       "                Date                             Prison name        Country  \\\n",
       "0    August 19, 1971                   Santa Martha Acatitla         Mexico   \n",
       "1   October 31, 1973                           Mountjoy Jail        Ireland   \n",
       "2       May 24, 1978      United States Penitentiary, Marion  United States   \n",
       "3  February 27, 1981  Fleury-Mérogis, Essonne, Ile de France         France   \n",
       "4        May 7, 1981         Orsainville Prison, Quebec City         Canada   \n",
       "\n",
       "  Succeeded                                         Escapee(s)  \\\n",
       "0       Yes  Joel David Kaplan Carlos Antonio Contreras Castro   \n",
       "1       Yes               JB O'Hagan Seamus TwomeyKevin Mallon   \n",
       "2        No  Garrett Brock TrapnellMartin Joseph McNallyJam...   \n",
       "3       Yes                        Gérard DupréDaniel Beaumont   \n",
       "4        No  Marina Paquet (hijacker)Giles Arseneault (pris...   \n",
       "\n",
       "                                             Details  \n",
       "0  Joel David Kaplan was a New York businessman w...  \n",
       "1  On October 31, 1973 an IRA member hijacked a h...  \n",
       "2  43-year-old Barbara Ann Oswald hijacked a Sain...  \n",
       "3  With the help of Serge Coutel, Gérard Dupré an...  \n",
       "4  Marina Paquet held a sawed off shotgun against...  "
      ]
     },
     "execution_count": 3,
     "metadata": {},
     "output_type": "execute_result"
    }
   ],
   "source": [
    "escape_data = data_from_url(\"https://en.wikipedia.org/wiki/List_of_helicopter_prison_escapes\", \"table\", \"wikitable\")\n",
    "escape_data.head()"
   ]
  },
  {
   "cell_type": "code",
   "execution_count": 4,
   "id": "cbebbbfb",
   "metadata": {},
   "outputs": [
    {
     "name": "stdout",
     "output_type": "stream",
     "text": [
      "<class 'pandas.core.frame.DataFrame'>\n",
      "RangeIndex: 48 entries, 0 to 47\n",
      "Data columns (total 6 columns):\n",
      " #   Column       Non-Null Count  Dtype \n",
      "---  ------       --------------  ----- \n",
      " 0   Date         48 non-null     object\n",
      " 1   Prison name  48 non-null     object\n",
      " 2   Country      48 non-null     object\n",
      " 3   Succeeded    48 non-null     object\n",
      " 4   Escapee(s)   48 non-null     object\n",
      " 5   Details      48 non-null     object\n",
      "dtypes: object(6)\n",
      "memory usage: 2.4+ KB\n"
     ]
    }
   ],
   "source": [
    "escape_data.info()"
   ]
  },
  {
   "cell_type": "code",
   "execution_count": 5,
   "id": "d5ef9fc7",
   "metadata": {},
   "outputs": [
    {
     "data": {
      "text/html": [
       "<div>\n",
       "<style scoped>\n",
       "    .dataframe tbody tr th:only-of-type {\n",
       "        vertical-align: middle;\n",
       "    }\n",
       "\n",
       "    .dataframe tbody tr th {\n",
       "        vertical-align: top;\n",
       "    }\n",
       "\n",
       "    .dataframe thead th {\n",
       "        text-align: right;\n",
       "    }\n",
       "</style>\n",
       "<table border=\"1\" class=\"dataframe\">\n",
       "  <thead>\n",
       "    <tr style=\"text-align: right;\">\n",
       "      <th></th>\n",
       "      <th>Date</th>\n",
       "      <th>Prison name</th>\n",
       "      <th>Country</th>\n",
       "      <th>Succeeded</th>\n",
       "      <th>Escapee(s)</th>\n",
       "      <th>Details</th>\n",
       "    </tr>\n",
       "  </thead>\n",
       "  <tbody>\n",
       "    <tr>\n",
       "      <th>0</th>\n",
       "      <td>1971-08-19</td>\n",
       "      <td>Santa Martha Acatitla</td>\n",
       "      <td>Mexico</td>\n",
       "      <td>Yes</td>\n",
       "      <td>Joel David Kaplan Carlos Antonio Contreras Castro</td>\n",
       "      <td>Joel David Kaplan was a New York businessman w...</td>\n",
       "    </tr>\n",
       "    <tr>\n",
       "      <th>1</th>\n",
       "      <td>1973-10-31</td>\n",
       "      <td>Mountjoy Jail</td>\n",
       "      <td>Ireland</td>\n",
       "      <td>Yes</td>\n",
       "      <td>JB O'Hagan Seamus TwomeyKevin Mallon</td>\n",
       "      <td>On October 31, 1973 an IRA member hijacked a h...</td>\n",
       "    </tr>\n",
       "    <tr>\n",
       "      <th>2</th>\n",
       "      <td>1978-05-24</td>\n",
       "      <td>United States Penitentiary, Marion</td>\n",
       "      <td>United States</td>\n",
       "      <td>No</td>\n",
       "      <td>Garrett Brock TrapnellMartin Joseph McNallyJam...</td>\n",
       "      <td>43-year-old Barbara Ann Oswald hijacked a Sain...</td>\n",
       "    </tr>\n",
       "    <tr>\n",
       "      <th>3</th>\n",
       "      <td>1981-02-27</td>\n",
       "      <td>Fleury-Mérogis, Essonne, Ile de France</td>\n",
       "      <td>France</td>\n",
       "      <td>Yes</td>\n",
       "      <td>Gérard DupréDaniel Beaumont</td>\n",
       "      <td>With the help of Serge Coutel, Gérard Dupré an...</td>\n",
       "    </tr>\n",
       "    <tr>\n",
       "      <th>4</th>\n",
       "      <td>1981-05-07</td>\n",
       "      <td>Orsainville Prison, Quebec City</td>\n",
       "      <td>Canada</td>\n",
       "      <td>No</td>\n",
       "      <td>Marina Paquet (hijacker)Giles Arseneault (pris...</td>\n",
       "      <td>Marina Paquet held a sawed off shotgun against...</td>\n",
       "    </tr>\n",
       "  </tbody>\n",
       "</table>\n",
       "</div>"
      ],
      "text/plain": [
       "        Date                             Prison name        Country Succeeded  \\\n",
       "0 1971-08-19                   Santa Martha Acatitla         Mexico       Yes   \n",
       "1 1973-10-31                           Mountjoy Jail        Ireland       Yes   \n",
       "2 1978-05-24      United States Penitentiary, Marion  United States        No   \n",
       "3 1981-02-27  Fleury-Mérogis, Essonne, Ile de France         France       Yes   \n",
       "4 1981-05-07         Orsainville Prison, Quebec City         Canada        No   \n",
       "\n",
       "                                          Escapee(s)  \\\n",
       "0  Joel David Kaplan Carlos Antonio Contreras Castro   \n",
       "1               JB O'Hagan Seamus TwomeyKevin Mallon   \n",
       "2  Garrett Brock TrapnellMartin Joseph McNallyJam...   \n",
       "3                        Gérard DupréDaniel Beaumont   \n",
       "4  Marina Paquet (hijacker)Giles Arseneault (pris...   \n",
       "\n",
       "                                             Details  \n",
       "0  Joel David Kaplan was a New York businessman w...  \n",
       "1  On October 31, 1973 an IRA member hijacked a h...  \n",
       "2  43-year-old Barbara Ann Oswald hijacked a Sain...  \n",
       "3  With the help of Serge Coutel, Gérard Dupré an...  \n",
       "4  Marina Paquet held a sawed off shotgun against...  "
      ]
     },
     "execution_count": 5,
     "metadata": {},
     "output_type": "execute_result"
    }
   ],
   "source": [
    "escape_data['Date'] = pd.to_datetime(escape_data['Date'])\n",
    "escape_data.head()"
   ]
  },
  {
   "cell_type": "code",
   "execution_count": 6,
   "id": "df9d2897",
   "metadata": {},
   "outputs": [
    {
     "name": "stdout",
     "output_type": "stream",
     "text": [
      "<class 'pandas.core.frame.DataFrame'>\n",
      "RangeIndex: 48 entries, 0 to 47\n",
      "Data columns (total 6 columns):\n",
      " #   Column       Non-Null Count  Dtype         \n",
      "---  ------       --------------  -----         \n",
      " 0   Date         48 non-null     datetime64[ns]\n",
      " 1   Prison name  48 non-null     object        \n",
      " 2   Country      48 non-null     object        \n",
      " 3   Succeeded    48 non-null     object        \n",
      " 4   Escapee(s)   48 non-null     object        \n",
      " 5   Details      48 non-null     object        \n",
      "dtypes: datetime64[ns](1), object(5)\n",
      "memory usage: 2.4+ KB\n"
     ]
    }
   ],
   "source": [
    "escape_data.info()"
   ]
  },
  {
   "cell_type": "code",
   "execution_count": 8,
   "id": "b81375d9",
   "metadata": {},
   "outputs": [
    {
     "data": {
      "image/png": "[encoded data removed]",
      "text/plain": [
       "<Figure size 864x432 with 1 Axes>"
      ]
     },
     "metadata": {
      "needs_background": "light"
     },
     "output_type": "display_data"
    }
   ],
   "source": [
    "escape_year_plot = escape_data['Date'].dt.year.value_counts().plot(kind='bar', \n",
    "                                                xlabel='Year', \n",
    "                                                ylabel='No. of Escapes',\n",
    "                                                title='Prison Breaks per Year', \n",
    "                                                figsize=(12,6))"
   ]
  },
  {
   "cell_type": "code",
   "execution_count": 9,
   "id": "9cf5f95e",
   "metadata": {},
   "outputs": [
    {
     "data": {
      "image/png": "[encoded data removed]",
      "text/plain": [
       "<Figure size 864x432 with 1 Axes>"
      ]
     },
     "metadata": {
      "needs_background": "light"
     },
     "output_type": "display_data"
    }
   ],
   "source": [
    "escape_country_plot = escape_data['Country'].value_counts().plot(kind='bar', \n",
    "                                                                 xlabel = 'Country', \n",
    "                                                                 ylabel = 'No. of Escapes', \n",
    "                                                                 title = 'Prison Breaks per Country', \n",
    "                                                                 figsize = (12,6))"
   ]
  }
 ],
 "metadata": {
  "kernelspec": {
   "display_name": "Python 3 (ipykernel)",
   "language": "python",
   "name": "python3"
  },
  "language_info": {
   "codemirror_mode": {
    "name": "ipython",
    "version": 3
   },
   "file_extension": ".py",
   "mimetype": "text/x-python",
   "name": "python",
   "nbconvert_exporter": "python",
   "pygments_lexer": "ipython3",
   "version": "3.9.12"
  }
 },
 "nbformat": 4,
 "nbformat_minor": 5
}
